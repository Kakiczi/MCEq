{
 "cells": [
  {
   "cell_type": "markdown",
   "metadata": {},
   "source": [
    "Compute zenith averaged muon and electron neutrino flux\n",
    "-----------------------------------------------------------\n",
    "\n",
    "The down-going neutrino fluxes are averaged over 11 bins in cos(zenith)."
   ]
  },
  {
   "cell_type": "code",
   "execution_count": 1,
   "metadata": {
    "collapsed": true
   },
   "outputs": [],
   "source": [
    "#basic imports and ipython setup\n",
    "%load_ext autoreload\n",
    "%matplotlib inline\n",
    "%autoreload 2\n",
    "import os\n",
    "import matplotlib.pyplot as plt\n",
    "import numpy as np\n",
    "os.chdir('..')\n",
    "\n",
    "#import solver related modules\n",
    "from MCEq.core import MCEqRun\n",
    "from mceq_config import config\n",
    "#import primary model choices\n",
    "import CRFluxModels as pm"
   ]
  },
  {
   "cell_type": "markdown",
   "metadata": {},
   "source": [
    "Create an instance of an MCEqRun class. Most of its areguments are contained in the `config` dictionary from the `mceq_config` module. Look into or edit `mceq_config.py`.\n",
    "\n",
    "If the initialization succeeds it will print out some information according to the debug level. "
   ]
  },
  {
   "cell_type": "code",
   "execution_count": 2,
   "metadata": {},
   "outputs": [
    {
     "name": "stdout",
     "output_type": "stream",
     "text": [
      "InteractionYields::_load(): entering..\n",
      "InteractionYields::_load(): Looking for C:\\Users\\afedy\\Source\\Repos\\MCEq\\data\\SIBYLL23C_yields_compact_ledpm.bz2\n",
      "DecayYields:_load():: Loading file C:\\Users\\afedy\\Source\\Repos\\MCEq\\data\\decays_v1_compact.ppd\n",
      "MCEqRun::_gen_list_of_particles():Generating particle list.\n",
      "MCEqRun::_init_alias_tables():Initializing links to alias IDs.\n",
      "\n",
      "Hadrons and stable particles:\n",
      "\n",
      "\"gamma\", \"p\", \"p-bar\", \"n-bar\", \"n\"\n",
      "\n",
      "Mixed:\n",
      "\n",
      "\"pi-\", \"pi+\", \"K0L\", \"K-\", \"K+\", \"Lambda0\", \"Lambda0-bar\", \"K0S\", \n",
      "\"D+\", \"D-\", \"Ds+\", \"Ds-\", \"D0\", \"D0-bar\"\n",
      "\n",
      "Resonances:\n",
      "\n",
      "\n",
      "\n",
      "Leptons:\n",
      "\n",
      "\"e-\", \"nue\", \"numu\", \"nutau\", \"antinutau\", \"antinumu\", \"antinue\", \"e+\", \n",
      "\"mu-\", \"mu+\"\n",
      "\n",
      "Aliases:\n",
      "\"obs_numu\", \"obs_nutau\", \"pr_antinutau\", \"pr_antinumu\", \"pr_antinue\", \"obs_antinue\", \"k_nue\", \"k_numu\", \n",
      "\"k_nutau\", \"pi_antinutau\", \"pi_antinue\", \"pi_antinumu\", \"pi_nue\", \"pi_numu\", \"pi_nutau\", \"k_antinutau\", \n",
      "\"k_antinumu\", \"k_antinue\", \"obs_nue\", \"pr_nue\", \"pr_numu\", \"pr_nutau\", \"obs_antinutau\", \"obs_antinumu\", \n",
      "\"k_mu-\", \"obs_mu-\", \"pr_mu+\", \"pi_mu+\", \"pi_mu-\", \"k_mu+\", \"pr_mu-\", \"obs_mu+\"\n",
      "\n",
      "Total number of species: 61\n",
      "MCEqRun::set_interaction_model():  SIBYLL23C\n",
      "InteractionYields:set_interaction_model():: Model SIBYLL23C already loaded.\n",
      "InteractionYields:set_interaction_model():: Model SIBYLL23C already loaded.\n",
      "MCEqRun::_init_default_matrices():Start filling matrices. Skip_D_matrix = False\n",
      "MCEqRun_fill_matrices(): Particle production by 3122 explicitly disabled\n",
      "MCEqRun_fill_matrices(): Particle production by -3122 explicitly disabled\n",
      "MCEqRun::_convert_to_sparse():Converting to sparse (CSR) matrix format.\n",
      "C Matrix info:\n",
      "    density    : 3.41%\n",
      "    shape      : 5368 x 5368\n",
      "    nnz        : 981217\n",
      "    sum        : 597327908834.0\n",
      "D Matrix info:\n",
      "    density    : 1.11%\n",
      "    shape      : 5368 x 5368\n",
      "    nnz        : 318463\n",
      "    sum        : 0.20730586438\n",
      "MCEqRun::_init_default_matrices():Done filling matrices.\n",
      "MCEqRun::set_density_model():  CORSIKA ('BK_USStd', None)\n",
      "MCEqRun::set_theta_deg():  0.0\n",
      "CorsikaAtmosphere::calculate_density_spline(): Calculating spline of rho(X) for zenith 0.0 degrees.\n",
      ".. took 0.02s\n",
      "MCEqRun::_gen_list_of_particles():Generating particle list.\n",
      "MCEqRun::set_primary_model():  HillasGaisser2012 H3a\n"
     ]
    }
   ],
   "source": [
    "mceq_run = MCEqRun(\n",
    "#provide the string of the interaction model\n",
    "interaction_model='SIBYLL2.3c',\n",
    "#primary cosmic ray flux model\n",
    "#support a tuple (primary model class (not instance!), arguments)\n",
    "primary_model = (pm.HillasGaisser2012, \"H3a\"),\n",
    "# Zenith angle in degrees. 0=vertical, 90=horizontal\n",
    "theta_deg=0.0,\n",
    "#expand the rest of the options from mceq_config.py\n",
    "**config\n",
    ")"
   ]
  },
  {
   "cell_type": "markdown",
   "metadata": {},
   "source": [
    "__________\n",
    "\n",
    "If everything succeeds than the last message should be something like\n",
    "\n",
    "`MCEqRun::set_primary_model():  HillasGaisser2012 H3a`.\n",
    "\n",
    "The spline interpolating the depth-density relation of an atmosphere will be caluclated and cached during the first run.\n",
    "\n",
    "Define variables and angles\n",
    "-------------------------"
   ]
  },
  {
   "cell_type": "code",
   "execution_count": 3,
   "metadata": {
    "collapsed": true
   },
   "outputs": [],
   "source": [
    "#Power of energy to scale the flux\n",
    "mag = 3\n",
    "\n",
    "#obtain energy grid (fixed) of the solution for the x-axis of the plots\n",
    "e_grid = mceq_run.e_grid\n",
    "\n",
    "#Dictionary for results\n",
    "flux = {}\n",
    "\n",
    "#Define equidistant grid in cos(theta)\n",
    "angles = np.arccos(np.linspace(1,0,11))*180./np.pi"
   ]
  },
  {
   "cell_type": "markdown",
   "metadata": {},
   "source": [
    "Calculate average flux\n",
    "---------------------"
   ]
  },
  {
   "cell_type": "code",
   "execution_count": 4,
   "metadata": {},
   "outputs": [
    {
     "name": "stdout",
     "output_type": "stream",
     "text": [
      "MCEqRun::set_theta_deg():  0.0\n",
      "Theta selection correponds to cached value, skipping calc.\n",
      "MCEqRun::solve(): solver=euler and sparse=True\n",
      "MCEqRun::_calculate_integration_path(): X_surface = 1033.80949621\n",
      "MCEqRun::_forward_euler(): Solver will perform 355 integration steps.\n",
      "Performance:   0.62ms/iteration\n",
      "\n",
      "MCEqRun::_forward_euler(): time elapsed during integration: 0.220999956131 sec\n",
      "MCEqRun::set_theta_deg():  25.8419327632\n",
      "CorsikaAtmosphere::calculate_density_spline(): Calculating spline of rho(X) for zenith 25.8419327632 degrees.\n",
      ".. took 0.02s\n",
      "MCEqRun::solve(): solver=euler and sparse=True\n",
      "MCEqRun::_calculate_integration_path(): X_surface = 1148.36904804\n",
      "MCEqRun::_forward_euler(): Solver will perform 393 integration steps.\n",
      "Performance:   0.63ms/iteration\n",
      "\n",
      "MCEqRun::_forward_euler(): time elapsed during integration: 0.24799990654 sec\n",
      "MCEqRun::set_theta_deg():  36.8698976458\n",
      "CorsikaAtmosphere::calculate_density_spline(): Calculating spline of rho(X) for zenith 36.8698976458 degrees.\n",
      ".. took 0.02s\n",
      "MCEqRun::solve(): solver=euler and sparse=True\n",
      "MCEqRun::_calculate_integration_path(): X_surface = 1291.4328393\n",
      "MCEqRun::_forward_euler(): Solver will perform 440 integration steps.\n",
      "Performance:   0.63ms/iteration\n",
      "\n",
      "MCEqRun::_forward_euler(): time elapsed during integration: 0.27899980545 sec\n",
      "MCEqRun::set_theta_deg():  45.5729959992\n",
      "CorsikaAtmosphere::calculate_density_spline(): Calculating spline of rho(X) for zenith 45.5729959992 degrees.\n",
      ".. took 0.02s\n",
      "MCEqRun::solve(): solver=euler and sparse=True\n",
      "MCEqRun::_calculate_integration_path(): X_surface = 1475.12083987\n",
      "MCEqRun::_forward_euler(): Solver will perform 500 integration steps.\n",
      "Performance:   0.61ms/iteration\n",
      "\n",
      "MCEqRun::_forward_euler(): time elapsed during integration: 0.305999994278 sec\n",
      "MCEqRun::set_theta_deg():  53.1301023542\n",
      "CorsikaAtmosphere::calculate_density_spline(): Calculating spline of rho(X) for zenith 53.1301023542 degrees.\n",
      ".. took 0.02s\n",
      "MCEqRun::solve(): solver=euler and sparse=True\n",
      "MCEqRun::_calculate_integration_path(): X_surface = 1719.53731755\n",
      "MCEqRun::_forward_euler(): Solver will perform 579 integration steps.\n",
      "Performance:   0.62ms/iteration\n",
      "\n",
      "MCEqRun::_forward_euler(): time elapsed during integration: 0.360999822617 sec\n",
      "MCEqRun::set_theta_deg():  60.0\n",
      "CorsikaAtmosphere::calculate_density_spline(): Calculating spline of rho(X) for zenith 60.0 degrees.\n",
      ".. took 0.02s\n",
      "MCEqRun::solve(): solver=euler and sparse=True\n",
      "MCEqRun::_calculate_integration_path(): X_surface = 2060.60278351\n",
      "MCEqRun::_forward_euler(): Solver will perform 686 integration steps.\n",
      "Performance:   0.62ms/iteration\n",
      "\n",
      "MCEqRun::_forward_euler(): time elapsed during integration: 0.424999952316 sec\n",
      "MCEqRun::set_theta_deg():  66.4218215218\n",
      "CorsikaAtmosphere::calculate_density_spline(): Calculating spline of rho(X) for zenith 66.4218215218 degrees.\n",
      ".. took 0.02s\n",
      "MCEqRun::solve(): solver=euler and sparse=True\n",
      "MCEqRun::_calculate_integration_path(): X_surface = 2569.28270085\n",
      "MCEqRun::_forward_euler(): Solver will perform 841 integration steps.\n",
      "Performance:   0.61ms/iteration\n",
      "\n",
      "MCEqRun::_forward_euler(): time elapsed during integration: 0.513999938965 sec\n",
      "MCEqRun::set_theta_deg():  72.5423968763\n",
      "CorsikaAtmosphere::calculate_density_spline(): Calculating spline of rho(X) for zenith 72.5423968763 degrees.\n",
      ".. took 0.02s\n",
      "MCEqRun::solve(): solver=euler and sparse=True\n",
      "MCEqRun::_calculate_integration_path(): X_surface = 3407.46234528\n",
      "MCEqRun::_forward_euler(): Solver will perform 1080 integration steps.\n",
      "Performance:   0.67ms/iteration\n",
      "\n",
      "MCEqRun::_forward_euler(): time elapsed during integration: 0.72200012207 sec\n",
      "MCEqRun::set_theta_deg():  78.4630409672\n",
      "CorsikaAtmosphere::calculate_density_spline(): Calculating spline of rho(X) for zenith 78.4630409672 degrees.\n",
      ".. took 0.02s\n",
      "MCEqRun::solve(): solver=euler and sparse=True\n",
      "MCEqRun::_calculate_integration_path(): X_surface = 5037.05170842\n",
      "MCEqRun::_forward_euler(): Solver will perform 1485 integration steps.\n",
      "Performance:   0.64ms/iteration\n",
      "\n",
      "MCEqRun::_forward_euler(): time elapsed during integration: 0.950999975204 sec\n",
      "MCEqRun::set_theta_deg():  84.2608295227\n",
      "CorsikaAtmosphere::calculate_density_spline(): Calculating spline of rho(X) for zenith 84.2608295227 degrees.\n",
      ".. took 0.02s\n",
      "MCEqRun::solve(): solver=euler and sparse=True\n",
      "MCEqRun::_calculate_integration_path(): X_surface = 9422.42525549\n",
      "MCEqRun::_forward_euler(): Solver will perform 2246 integration steps.\n",
      "Performance:   0.62ms/iteration\n",
      "\n",
      "MCEqRun::_forward_euler(): time elapsed during integration: 1.39800000191 sec\n",
      "MCEqRun::set_theta_deg():  90.0\n",
      "CorsikaAtmosphere::calculate_density_spline(): Calculating spline of rho(X) for zenith 90.0 degrees.\n",
      ".. took 0.02s\n",
      "MCEqRun::solve(): solver=euler and sparse=True\n",
      "MCEqRun::_calculate_integration_path(): X_surface = 36583.2539537\n",
      "MCEqRun::_forward_euler(): Solver will perform 3727 integration steps.\n",
      "Performance:   1.11ms/iteration\n",
      "\n",
      "MCEqRun::_forward_euler(): time elapsed during integration: 4.13899993896 sec\n"
     ]
    }
   ],
   "source": [
    "#Initialize empty grid\n",
    "for frac in ['mu_conv','mu_pr','mu_total',\n",
    "             'numu_conv','numu_pr','numu_total',\n",
    "             'nue_conv','nue_pr','nue_total','nutau_pr']:\n",
    "    flux[frac] = np.zeros_like(e_grid)\n",
    "\n",
    "    \n",
    "#Sum fluxes, calculated for different angles\n",
    "for theta in angles:\n",
    "    mceq_run.set_theta_deg(theta)\n",
    "    mceq_run.solve()\n",
    "    #_conv means conventional (mostly pions and kaons)\n",
    "    flux['mu_conv'] += (mceq_run.get_solution('conv_mu+', mag)\n",
    "                       + mceq_run.get_solution('conv_mu-', mag))\n",
    "\n",
    "    # _pr means prompt (the mother of the muon had a critical energy\n",
    "    # higher than a D meson. Includes all charm and direct resonance\n",
    "    # contribution)\n",
    "    flux['mu_pr'] += (mceq_run.get_solution('pr_mu+', mag)\n",
    "                     + mceq_run.get_solution('pr_mu-', mag))\n",
    "\n",
    "    # total means conventional + prompt\n",
    "    flux['mu_total'] += (mceq_run.get_solution('total_mu+', mag)\n",
    "                        + mceq_run.get_solution('total_mu-', mag))\n",
    "\n",
    "    # same meaning of prefixes for muon neutrinos as for muons\n",
    "    flux['numu_conv'] += (mceq_run.get_solution('conv_numu', mag)\n",
    "                         + mceq_run.get_solution('conv_antinumu', mag))\n",
    "\n",
    "    flux['numu_pr'] += (mceq_run.get_solution('pr_numu', mag)\n",
    "                       + mceq_run.get_solution('pr_antinumu', mag))\n",
    "\n",
    "    flux['numu_total'] += (mceq_run.get_solution('total_numu', mag)\n",
    "                          + mceq_run.get_solution('total_antinumu', mag))\n",
    "\n",
    "    # same meaning of prefixes for electron neutrinos as for muons\n",
    "    flux['nue_conv'] += (mceq_run.get_solution('conv_nue', mag)\n",
    "                        + mceq_run.get_solution('conv_antinue', mag))\n",
    "\n",
    "    flux['nue_pr'] += (mceq_run.get_solution('pr_nue', mag)\n",
    "                      + mceq_run.get_solution('pr_antinue', mag))\n",
    "\n",
    "    flux['nue_total'] += (mceq_run.get_solution('total_nue', mag)\n",
    "                         + mceq_run.get_solution('total_antinue', mag))\n",
    "\n",
    "\n",
    "    # since there are no conventional tau neutrinos, prompt=total\n",
    "    flux['nutau_pr'] += (mceq_run.get_solution('total_nutau', mag)\n",
    "                        + mceq_run.get_solution('total_antinutau', mag))\n",
    "\n",
    "#average the results\n",
    "for frac in ['mu_conv','mu_pr','mu_total',\n",
    "             'numu_conv','numu_pr','numu_total',\n",
    "             'nue_conv','nue_pr','nue_total','nutau_pr']:\n",
    "    flux[frac] = flux[frac]/float(len(angles))"
   ]
  },
  {
   "cell_type": "code",
   "execution_count": 5,
   "metadata": {
    "collapsed": true
   },
   "outputs": [],
   "source": [
    "from copy import copy\n",
    "flux_H3a = copy(flux)"
   ]
  },
  {
   "cell_type": "markdown",
   "metadata": {},
   "source": [
    "Plot with matplotlib\n",
    "--------------------"
   ]
  },
  {
   "cell_type": "code",
   "execution_count": 6,
   "metadata": {},
   "outputs": [
    {
     "data": {
      "image/png": "[encoded data removed]",
      "text/plain": [
       "<matplotlib.figure.Figure at 0x4a436a0>"
      ]
     },
     "metadata": {},
     "output_type": "display_data"
    },
    {
     "data": {
      "image/png": "[encoded data removed]",
      "text/plain": [
       "<matplotlib.figure.Figure at 0xceace80>"
      ]
     },
     "metadata": {},
     "output_type": "display_data"
    }
   ],
   "source": [
    "#get path of the home directory + Desktop\n",
    "save_pdf = True\n",
    "desktop = os.path.join(os.path.expanduser(\"~\"),'Desktop')\n",
    "\n",
    "for pref, lab in [('numu_',r'\\nu_\\mu'), ('nue_',r'\\nu_e')]:\n",
    "    plt.figure(figsize=(4.2, 3))\n",
    "    plt.loglog(e_grid, flux[pref + 'total'], color='k', ls='-', lw=1.5)\n",
    "    plt.loglog(e_grid, flux[pref + 'conv'], color='b', ls='-.', lw=1.5,\n",
    "               label=r'conventional ${0}$'.format(lab))\n",
    "    plt.loglog(e_grid, flux[pref + 'pr'], color='r',ls='--', lw=1.5, \n",
    "               label='prompt ${0}$'.format(lab))\n",
    "    plt.xlim(10,1e7)\n",
    "    plt.ylim(1e-5,10)\n",
    "    plt.xlabel(r\"$E_{{{0}}}$ [GeV]\".format(lab))\n",
    "    plt.ylabel(r\"$\\Phi_{\" + lab + \"}$ (E/GeV)$^{\" + str(mag) +\" }$\" + \n",
    "               \"(cm$^{2}$ s sr GeV)$^{-1}$\")\n",
    "    plt.legend(loc='upper right',frameon=False,numpoints=1,fontsize='medium')\n",
    "    plt.tight_layout()\n",
    "    if save_pdf: plt.savefig(os.path.join(desktop, pref + 'flux.png'),dpi=300)"
   ]
  },
  {
   "cell_type": "markdown",
   "metadata": {},
   "source": [
    "Save as in ASCII file for other types of processing\n",
    "---------------------------------------------------"
   ]
  },
  {
   "cell_type": "code",
   "execution_count": 7,
   "metadata": {
    "collapsed": true
   },
   "outputs": [],
   "source": [
    "np.savetxt(open(os.path.join(desktop, 'H3a_zenith_av.txt'),'w'),\n",
    "zip(e_grid, \n",
    "    flux['mu_conv'],flux['mu_pr'],flux['mu_total'],\n",
    "    flux['numu_conv'],flux['numu_pr'],flux['numu_total'],\n",
    "    flux['nue_conv'],flux['nue_pr'],flux['nue_total'],\n",
    "    flux['nutau_pr']),\n",
    "fmt='%6.5E',\n",
    "header=('lepton flux scaled with E**{0}. Order (E, mu_conv, mu_pr, mu_total, ' +\n",
    "        'numu_conv, numu_pr, numu_total, nue_conv, nue_pr, nue_total, ' +\n",
    "        'nutau_pr').format(mag)\n",
    ")"
   ]
  },
  {
   "cell_type": "code",
   "execution_count": null,
   "metadata": {
    "collapsed": true
   },
   "outputs": [],
   "source": []
  }
 ],
 "metadata": {
  "kernelspec": {
   "display_name": "Python [default]",
   "language": "python",
   "name": "python2"
  },
  "language_info": {
   "codemirror_mode": {
    "name": "ipython",
    "version": 2
   },
   "file_extension": ".py",
   "mimetype": "text/x-python",
   "name": "python",
   "nbconvert_exporter": "python",
   "pygments_lexer": "ipython2",
   "version": "2.7.13"
  }
 },
 "nbformat": 4,
 "nbformat_minor": 1
}
